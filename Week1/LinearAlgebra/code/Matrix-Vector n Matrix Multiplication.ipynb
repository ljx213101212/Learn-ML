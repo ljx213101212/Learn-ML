{
 "cells": [
  {
   "cell_type": "markdown",
   "metadata": {},
   "source": [
    "% Initialize matrix A \n",
    "A = [1, 2, 3; 4, 5, 6;7, 8, 9] \n",
    "\n",
    "% Initialize vector v \n",
    "v = [1; 1; 1] \n",
    "\n",
    "% Multiply A * v\n",
    "Av = A * v\n",
    "\n"
   ]
  },
  {
   "cell_type": "code",
   "execution_count": 3,
   "metadata": {},
   "outputs": [],
   "source": [
    "import numpy as np"
   ]
  },
  {
   "cell_type": "code",
   "execution_count": 6,
   "metadata": {
    "scrolled": true
   },
   "outputs": [
    {
     "name": "stdout",
     "output_type": "stream",
     "text": [
      "[[ 6]\n",
      " [15]\n",
      " [24]]\n"
     ]
    }
   ],
   "source": [
    "A = np.matrix(\"1 2 3;4 5 6;7 8 9\")\n",
    "V = np.array([[1],[1],[1]])\n",
    "\n",
    "Av = A * V\n",
    "print (Av)"
   ]
  },
  {
   "cell_type": "code",
   "execution_count": 7,
   "metadata": {},
   "outputs": [
    {
     "name": "stdout",
     "output_type": "stream",
     "text": [
      "\n",
      "\n"
     ]
    }
   ],
   "source": [
    "print (\"\\n\")"
   ]
  },
  {
   "cell_type": "markdown",
   "metadata": {},
   "source": [
    "% Initialize a 3 by 2 matrix \n",
    "C = [1, 2; 3, 4;5, 6]\n",
    "\n",
    "% Initialize a 2 by 1 matrix \n",
    "D = [1; 2] \n",
    "\n",
    "% We expect a resulting matrix of (3 by 2)*(2 by 1) = (3 by 1) \n",
    "mult_CD = C*D"
   ]
  },
  {
   "cell_type": "code",
   "execution_count": 9,
   "metadata": {},
   "outputs": [
    {
     "name": "stdout",
     "output_type": "stream",
     "text": [
      "[[ 5]\n",
      " [11]\n",
      " [17]]\n"
     ]
    }
   ],
   "source": [
    "C = np.matrix(\"1 2;3 4;5 6\")\n",
    "D = np.matrix(\"1;2\")\n",
    "mult_CD = C * D\n",
    "print(mult_CD)"
   ]
  },
  {
   "cell_type": "code",
   "execution_count": null,
   "metadata": {},
   "outputs": [],
   "source": []
  }
 ],
 "metadata": {
  "kernelspec": {
   "display_name": "Python 3",
   "language": "python",
   "name": "python3"
  },
  "language_info": {
   "codemirror_mode": {
    "name": "ipython",
    "version": 3
   },
   "file_extension": ".py",
   "mimetype": "text/x-python",
   "name": "python",
   "nbconvert_exporter": "python",
   "pygments_lexer": "ipython3",
   "version": "3.7.2"
  }
 },
 "nbformat": 4,
 "nbformat_minor": 2
}
