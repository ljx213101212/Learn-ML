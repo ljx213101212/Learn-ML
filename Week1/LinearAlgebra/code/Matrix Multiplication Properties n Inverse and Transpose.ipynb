{
 "cells": [
  {
   "cell_type": "markdown",
   "metadata": {},
   "source": [
    "% Initialize random matrices A and B \n",
    "A = [1,2;4,5]\n",
    "B = [1,1;0,2]\n",
    "\n",
    "% Initialize a 2 by 2 identity matrix\n",
    "I = eye(2)\n",
    "\n",
    "% The above notation is the same as I = [1,0;0,1]\n",
    "\n",
    "% What happens when we multiply I*A ? \n",
    "IA = I*A \n",
    "\n",
    "% How about A*I ? \n",
    "AI = A*I \n",
    "\n",
    "% Compute A*B \n",
    "AB = A*B \n",
    "\n",
    "% Is it equal to B*A? \n",
    "BA = B*A \n",
    "\n",
    "% Note that IA = AI but AB != BA"
   ]
  },
  {
   "cell_type": "code",
   "execution_count": 3,
   "metadata": {},
   "outputs": [],
   "source": [
    "import numpy as np"
   ]
  },
  {
   "cell_type": "code",
   "execution_count": 4,
   "metadata": {},
   "outputs": [
    {
     "name": "stdout",
     "output_type": "stream",
     "text": [
      "[[1. 0.]\n",
      " [0. 1.]]\n"
     ]
    }
   ],
   "source": [
    "A = np.matrix(\"1 2;4 5\")\n",
    "B = np.matrix(\"1 1;0 2\")\n",
    "I = np.identity(2)\n",
    "\n",
    "print (I)"
   ]
  },
  {
   "cell_type": "code",
   "execution_count": 6,
   "metadata": {},
   "outputs": [],
   "source": [
    "IA = I * A\n",
    "AI = A * I\n",
    "AB = A * B\n",
    "BA = B * A"
   ]
  },
  {
   "cell_type": "code",
   "execution_count": 7,
   "metadata": {},
   "outputs": [
    {
     "name": "stdout",
     "output_type": "stream",
     "text": [
      "[[1. 2.]\n",
      " [4. 5.]]\n",
      "[[1. 2.]\n",
      " [4. 5.]]\n"
     ]
    }
   ],
   "source": [
    "print (IA)\n",
    "print (AI)"
   ]
  },
  {
   "cell_type": "code",
   "execution_count": 8,
   "metadata": {},
   "outputs": [
    {
     "name": "stdout",
     "output_type": "stream",
     "text": [
      "[[ 1  5]\n",
      " [ 4 14]]\n",
      "[[ 5  7]\n",
      " [ 8 10]]\n"
     ]
    }
   ],
   "source": [
    "print (AB)\n",
    "print (BA)"
   ]
  },
  {
   "cell_type": "markdown",
   "metadata": {},
   "source": [
    "% Initialize matrix A \n",
    "A = [1,2,0;0,5,6;7,0,9]\n",
    "\n",
    "% Transpose A \n",
    "A_trans = A' \n",
    "\n",
    "% Take the inverse of A \n",
    "A_inv = inv(A)\n",
    "\n",
    "% What is A^(-1)*A? \n",
    "A_invA = inv(A)*A"
   ]
  },
  {
   "cell_type": "code",
   "execution_count": 10,
   "metadata": {},
   "outputs": [
    {
     "name": "stdout",
     "output_type": "stream",
     "text": [
      "[[1 2 0]\n",
      " [0 5 6]\n",
      " [7 0 9]]\n",
      "[[1 0 7]\n",
      " [2 5 0]\n",
      " [0 6 9]]\n"
     ]
    }
   ],
   "source": [
    "A = np.matrix(\"1 2 0;0 5 6;7 0 9\")\n",
    "A_trans = np.transpose(A)\n",
    "\n",
    "print (A)\n",
    "print(A_trans)"
   ]
  },
  {
   "cell_type": "code",
   "execution_count": 11,
   "metadata": {},
   "outputs": [
    {
     "name": "stdout",
     "output_type": "stream",
     "text": [
      "[[ 0.34883721 -0.13953488  0.09302326]\n",
      " [ 0.3255814   0.06976744 -0.04651163]\n",
      " [-0.27131783  0.10852713  0.03875969]]\n"
     ]
    }
   ],
   "source": [
    "A_inv = np.linalg.inv(A) \n",
    "print(A_inv)"
   ]
  },
  {
   "cell_type": "code",
   "execution_count": 14,
   "metadata": {},
   "outputs": [
    {
     "name": "stdout",
     "output_type": "stream",
     "text": [
      "[[ 1.00000000e+00 -1.11022302e-16  0.00000000e+00]\n",
      " [-5.55111512e-17  1.00000000e+00  0.00000000e+00]\n",
      " [-5.55111512e-17  0.00000000e+00  1.00000000e+00]]\n"
     ]
    }
   ],
   "source": [
    "A_invA = np.linalg.inv(A) * A\n",
    "print (A_invA)"
   ]
  },
  {
   "cell_type": "markdown",
   "metadata": {},
   "source": [
    "Note: 输出其实就是单位阵 由于求逆矩阵的过程有四舍五入, 所以有点误差"
   ]
  }
 ],
 "metadata": {
  "kernelspec": {
   "display_name": "Python 3",
   "language": "python",
   "name": "python3"
  },
  "language_info": {
   "codemirror_mode": {
    "name": "ipython",
    "version": 3
   },
   "file_extension": ".py",
   "mimetype": "text/x-python",
   "name": "python",
   "nbconvert_exporter": "python",
   "pygments_lexer": "ipython3",
   "version": "3.7.2"
  }
 },
 "nbformat": 4,
 "nbformat_minor": 2
}
