{
 "cells": [
  {
   "cell_type": "markdown",
   "metadata": {},
   "source": [
    "% Initialize matrix A and B \n",
    "A = [1, 2, 4; 5, 3, 2]\n",
    "B = [1, 3, 4; 1, 1, 1]\n",
    "\n",
    "% Initialize constant s \n",
    "s = 2\n",
    "\n",
    "% See how element-wise addition works\n",
    "add_AB = A + B \n",
    "\n",
    "% See how element-wise subtraction works\n",
    "sub_AB = A - B\n",
    "\n",
    "% See how scalar multiplication works\n",
    "mult_As = A * s\n",
    "\n",
    "% Divide A by s\n",
    "div_As = A / s\n",
    "\n",
    "% What happens if we have a Matrix + scalar?\n",
    "add_As = A + s\n"
   ]
  },
  {
   "cell_type": "code",
   "execution_count": 4,
   "metadata": {},
   "outputs": [],
   "source": [
    "import numpy as np"
   ]
  },
  {
   "cell_type": "markdown",
   "metadata": {},
   "source": [
    "Initialize matrix A and B "
   ]
  },
  {
   "cell_type": "code",
   "execution_count": 12,
   "metadata": {},
   "outputs": [
    {
     "name": "stdout",
     "output_type": "stream",
     "text": [
      "[[1 2 4]\n",
      " [5 3 2]]\n",
      "\n",
      "\n",
      "[[1 3 4]\n",
      " [1 1 1]]\n"
     ]
    }
   ],
   "source": [
    "A = np.matrix('1 2 4; 5 3 2')\n",
    "B = np.matrix('1 3 4; 1 1 1')\n",
    "\n",
    "print (A)\n",
    "print ('\\n')\n",
    "print (B)"
   ]
  },
  {
   "cell_type": "markdown",
   "metadata": {},
   "source": [
    "Initialize constant s "
   ]
  },
  {
   "cell_type": "code",
   "execution_count": 17,
   "metadata": {},
   "outputs": [],
   "source": [
    "s = 2"
   ]
  },
  {
   "cell_type": "markdown",
   "metadata": {},
   "source": [
    "See how element-wise addition works"
   ]
  },
  {
   "cell_type": "code",
   "execution_count": 14,
   "metadata": {},
   "outputs": [
    {
     "name": "stdout",
     "output_type": "stream",
     "text": [
      "[[2 5 8]\n",
      " [6 4 3]]\n"
     ]
    }
   ],
   "source": [
    "add_AB = A + B\n",
    "print(add_AB)"
   ]
  },
  {
   "cell_type": "markdown",
   "metadata": {},
   "source": [
    "See how element-wise subtraction works"
   ]
  },
  {
   "cell_type": "code",
   "execution_count": 15,
   "metadata": {},
   "outputs": [
    {
     "name": "stdout",
     "output_type": "stream",
     "text": [
      "[[ 0 -1  0]\n",
      " [ 4  2  1]]\n"
     ]
    }
   ],
   "source": [
    "sub_AB = A - B\n",
    "print(sub_AB)"
   ]
  },
  {
   "cell_type": "markdown",
   "metadata": {},
   "source": [
    "See how scalar multiplication works"
   ]
  },
  {
   "cell_type": "code",
   "execution_count": 18,
   "metadata": {},
   "outputs": [
    {
     "name": "stdout",
     "output_type": "stream",
     "text": [
      "[[ 2  4  8]\n",
      " [10  6  4]]\n"
     ]
    }
   ],
   "source": [
    "mult_As = A * s\n",
    "print(mult_As)"
   ]
  },
  {
   "cell_type": "markdown",
   "metadata": {},
   "source": [
    "Divide A by s"
   ]
  },
  {
   "cell_type": "code",
   "execution_count": 19,
   "metadata": {},
   "outputs": [
    {
     "name": "stdout",
     "output_type": "stream",
     "text": [
      "[[0.5 1.  2. ]\n",
      " [2.5 1.5 1. ]]\n"
     ]
    }
   ],
   "source": [
    "div_As = A / s\n",
    "print(div_As)"
   ]
  },
  {
   "cell_type": "markdown",
   "metadata": {},
   "source": [
    "What happens if we have a Matrix + scalar?"
   ]
  },
  {
   "cell_type": "code",
   "execution_count": 20,
   "metadata": {},
   "outputs": [
    {
     "name": "stdout",
     "output_type": "stream",
     "text": [
      "[[3 4 6]\n",
      " [7 5 4]]\n"
     ]
    }
   ],
   "source": [
    "add_As = A + s\n",
    "print(add_As)"
   ]
  },
  {
   "cell_type": "code",
   "execution_count": null,
   "metadata": {},
   "outputs": [],
   "source": []
  }
 ],
 "metadata": {
  "kernelspec": {
   "display_name": "Python 3",
   "language": "python",
   "name": "python3"
  },
  "language_info": {
   "codemirror_mode": {
    "name": "ipython",
    "version": 3
   },
   "file_extension": ".py",
   "mimetype": "text/x-python",
   "name": "python",
   "nbconvert_exporter": "python",
   "pygments_lexer": "ipython3",
   "version": "3.7.2"
  }
 },
 "nbformat": 4,
 "nbformat_minor": 2
}
